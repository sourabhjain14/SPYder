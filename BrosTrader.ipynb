{
 "cells": [
  {
   "cell_type": "code",
   "execution_count": 1,
   "metadata": {},
   "outputs": [
    {
     "name": "stdout",
     "output_type": "stream",
     "text": [
      "param complete\n"
     ]
    }
   ],
   "source": [
    "import time\n",
    "from IPython.display import display\n",
    "from ipywidgets import widgets\n",
    "from ipywidgets import interact, Button, Output, HBox, VBox\n",
    "from threading import Thread\n",
    "import asyncio\n",
    "from trademanager import run_system\n",
    "from plotting import plot_backtest_charts\n",
    "\n",
    "param = {}\n",
    "global candles_dict\n",
    "candles_dict = {}\n",
    "\n",
    "#--------------------------Paramters-----------------------------------------------------------\n",
    "\n",
    "\n",
    "''' available capital for trade in USD '''\n",
    "param['account_capital'] = 10000\n",
    "\n",
    "''' \n",
    "Portfolio: ma_breakout_strategy, mean_reversion_strategy \n",
    "trade_capital: percent of account_capital\n",
    "param['portfolio_dict'] = {'ma_breakout_strategy':{'AAPL':{'trade_capital':10},'AMZN':{'trade_capital':40}}, \n",
    "                           'mean_reversion_strategy':{'AAPL':{'trade_capital':10},'TSLA':{'trade_capital':10}}}\n",
    "'''\n",
    "\n",
    "param['portfolio_dict'] = {\n",
    "                            'chori_strategy':\n",
    "                            {\n",
    "                                #'AAPL':{'trade_capital':10},\n",
    "                                #'AMZN':{'trade_capital':40},\n",
    "                                #'SPY':{'trade_capital':10},   \n",
    "                            },\n",
    "                            'bros24_strategy':\n",
    "                            {\n",
    "                                'AAPL':{'trade_capital':10},\n",
    "                                #'AMZN':{'trade_capital':40},\n",
    "                                #'SPY':{'trade_capital':10},   \n",
    "                            }\n",
    "                          }\n",
    "\n",
    "\n",
    "param['indicator_dict'] = {\n",
    "                            'chori_strategy':\n",
    "                            {\n",
    "                                'AAPL':[('ChoriSMA','line'),('ChoriEMA','line'), \\\n",
    "                                        ('chori_strategy'+'stoplossprice','dash'),\\\n",
    "                                        ('chori_strategy'+'takeprofitprice','dash')],\n",
    "                                'AMZN':[('ChoriSMA','line'),('ChoriEMA','line'), \\\n",
    "                                        ('chori_strategy'+'stoplossprice','dash'),\\\n",
    "                                        ('chori_strategy'+'takeprofitprice','dash')],\n",
    "                                'SPY':[('ChoriSMA','line'),('ChoriEMA','line'), \\\n",
    "                                        ('chori_strategy'+'stoplossprice','dash'),\\\n",
    "                                        ('chori_strategy'+'takeprofitprice','dash')],   \n",
    "                            },\n",
    "                            'bros24_strategy':\n",
    "                            {\n",
    "                                'AAPL':[('bros24_i','line'),('bros24_i2','line'),\\\n",
    "                                        ('bros24_s','line'),('bros24_s2','line'),\\\n",
    "                                        ('bros24_strategy'+'takeprofitprice','dash'),\\\n",
    "                                        ('bros24_strategy'+'stoplossprice','dash')],\n",
    "                                'AMZN':[('bros24_i','line'),('bros24_i2','line'),\\\n",
    "                                        ('bros24_s','line'),('bros24_s2','line')],\n",
    "                                'SPY':[('bros24_i','line'),('bros24_i2','line'),\\\n",
    "                                       ('bros24_s','line'),('bros24_s2','line')],   \n",
    "                            },\n",
    "                           \n",
    "                          }\n",
    "\n",
    "\n",
    "#---------------------- system settings--------------------------------------------\n",
    "\n",
    "'''\n",
    "Direction of trade, in options, it's LONG->CALL option, SHORT->PUT option, \n",
    "BOTH->CALL and PUT option,  'LONG', 'SHORT', 'BOTH'\n",
    "'''  \n",
    "\n",
    "param['tradeDirection'] = 'BOTH'\n",
    "#interact(f, x=['apples','oranges']);\n",
    "\n",
    "\n",
    "'''\n",
    "Chori strategy parameters\n",
    "'''\n",
    "\n",
    "param['ChoriSMAPeriod'] = 1\n",
    "param['ChoriEMAPeriod'] = 3\n",
    "param['steppingladderexit'] = True\n",
    "\n",
    "\n",
    "''' Trading window for placing orders '''\n",
    "param['useTradewindow'] = True\n",
    "param['tradewindowStart'] = 935\n",
    "param['tradewindowEnd'] = 1550\n",
    "\n",
    "\n",
    "''' Intra-day squaring of positions'''\n",
    "param['tradeSquare'] = True\n",
    "param['tradeSquareTime'] = 1555\n",
    "\n",
    "\n",
    "''' Strategy: ma_breakout_strategy, mean_reversion_strategy '''\n",
    "''' \n",
    "Check for low volatility, \n",
    "default value in absence of symbol is True  \n",
    "'''\n",
    "param['useVolatility_dict'] = {\"SPY\":True,\"TSLA\":False,'AAPL':True,'AMZN':False}\n",
    "\n",
    "\n",
    "param['strategy'] = 'ma_breakout_strategy'\n",
    "\n",
    "param['mean_reversion_period'] = 10\n",
    "param['mean_reversion_secondary_period'] = 100\n",
    "param['z_entry'] = 0.9\n",
    "param['z_exit'] = 0.5\n",
    "\n",
    "\n",
    "''' EMA crossing over/under SMA '''\n",
    "param['useEMA'] = True\n",
    "param['EMAPeriod'] = 12\n",
    "\n",
    "param['useSMA'] = True\n",
    "param['SMAPeriod'] = 20\n",
    "\n",
    "\n",
    "\n",
    "'''spread constraint'''\n",
    "param['maxOptionSpreadPercent'] = 1.0\n",
    "\n",
    "\n",
    "'''\n",
    "default lot size of each symbol, actual size will be \n",
    "calculated using trade_capital in portfolio_dict\n",
    "'''\n",
    "param['LOT_dict'] = {\"SPY\":1,\"GOOG\":1,\"MED\":1,\"TSLA\":1,'AAPL':1,'AMZN':1}\n",
    "\n",
    "'''\n",
    "RUN_FOR_MINUTES: Duration for loop (minutes), this value\n",
    "should be set as 0 for backtesting on security\n",
    "'''\n",
    "\n",
    "param['RUN_FOR_MINUTES'] = 0\n",
    "\n",
    "\n",
    "'BE CAREFUL! It will place live orders in your trade account (False/True)'\n",
    "param['PLACE_ORDER'] = False\n",
    "\n",
    "\n",
    "'''\n",
    "Following instrument list contains symbol to be traded\n",
    "input is list like param['instrument_symbol_list'] =  [\"SPY\",\"TSLA\",\"AAPL\", \"AMZN\",\"GOOG\",\"MED\"]\n",
    "'''\n",
    "\n",
    "param['instrument_symbol_list'] = []\n",
    "\n",
    "#-------------------------trader input settings --------------------------------\n",
    "\n",
    "\n",
    "'update intra-bar tick data every N seconds'\n",
    "param['UPDATE_TICK_DATA_SECONDS'] = 1\n",
    "\n",
    "\n",
    "'paper trading in live market'\n",
    "param['TRADE_LIVE'] = True\n",
    "\n",
    "\n",
    "'allow short/put options'\n",
    "param['ALLOW_SHORT'] = True\n",
    "\n",
    "\n",
    "'generate refresh token every 90 days by switching it to True and then turn False again'\n",
    "param['generate_refresh_token'] = False\n",
    "\n",
    "\n",
    "#--------------------- time frame and history data paramters ---------------\n",
    "param['timeframe']='minute'\n",
    "param['frequency'] = '1'\n",
    "param['periodType']='day'\n",
    "param['period']='7'\n",
    "param['extended_hours'] = False\n",
    "\n",
    "\n",
    "#---------------------------------post process------------------------------\n",
    "param['liveOutputFrequency'] = 5\n",
    "\n",
    "print('param complete')"
   ]
  },
  {
   "cell_type": "code",
   "execution_count": 2,
   "metadata": {
    "scrolled": true
   },
   "outputs": [
    {
     "data": {
      "application/vnd.jupyter.widget-view+json": {
       "model_id": "4b98b60496b0489c8603115de704944f",
       "version_major": 2,
       "version_minor": 0
      },
      "text/plain": [
       "Button(description='Run System!', style=ButtonStyle(button_color='lightgreen'))"
      ]
     },
     "metadata": {},
     "output_type": "display_data"
    },
    {
     "data": {
      "application/vnd.jupyter.widget-view+json": {
       "model_id": "aaa0e4e545504f4e9dd4fe790b05b2e8",
       "version_major": 2,
       "version_minor": 0
      },
      "text/plain": [
       "Output()"
      ]
     },
     "metadata": {},
     "output_type": "display_data"
    },
    {
     "name": "stdout",
     "output_type": "stream",
     "text": [
      "running thread\n"
     ]
    }
   ],
   "source": [
    "button = widgets.Button(description=\"Run System!\")\n",
    "button.style.button_color = 'lightgreen'\n",
    "output = widgets.Output()\n",
    "display(button, output)\n",
    "def on_button_clicked_thread(b):\n",
    "    print('running thread')\n",
    "    thread = Thread(target=on_button_clicked,args=(b,))\n",
    "    thread.start()\n",
    "    thread.join()\n",
    "def on_button_clicked(b):\n",
    "    global candles_dict\n",
    "    with output:\n",
    "        candles_dict = run_system(param, None)\n",
    "        \n",
    "button.on_click(on_button_clicked_thread)\n"
   ]
  },
  {
   "cell_type": "code",
   "execution_count": 3,
   "metadata": {},
   "outputs": [
    {
     "data": {
      "application/vnd.jupyter.widget-view+json": {
       "model_id": "b69290863dc84f9fb567c6b518de6310",
       "version_major": 2,
       "version_minor": 0
      },
      "text/plain": [
       "Button(description='Backtest Chart', style=ButtonStyle(button_color='lightblue'))"
      ]
     },
     "metadata": {},
     "output_type": "display_data"
    },
    {
     "data": {
      "application/vnd.jupyter.widget-view+json": {
       "model_id": "86b2bbbf26dd4336a47adc0d4a7306d2",
       "version_major": 2,
       "version_minor": 0
      },
      "text/plain": [
       "Output()"
      ]
     },
     "metadata": {},
     "output_type": "display_data"
    }
   ],
   "source": [
    "global fig_dict\n",
    "fig_dict = {}                   \n",
    "chart = widgets.Button(description=\"Backtest Chart\")\n",
    "chart.style.button_color = 'lightblue'\n",
    "chart_output = widgets.Output()\n",
    "display(chart, chart_output)\n",
    "def on_charting(b):\n",
    "    global fig_dict\n",
    "    with chart_output:\n",
    "        if True:\n",
    "            for portfolio in param['portfolio_dict']:\n",
    "                symbols = param['portfolio_dict'][portfolio]\n",
    "                for symbol in symbols.keys():\n",
    "                    indicator_list = param['indicator_dict'][portfolio][symbol]\n",
    "                    fig_dict[portfolio+symbol] = plot_backtest_charts(portfolio=portfolio, symbols=[symbol], \\\n",
    "                                 timeframe=param['timeframe'], frequency=param['frequency'], \\\n",
    "                                 periodType=param['periodType'], period=param['period'], \\\n",
    "                                 params=None, tradeDirection=param['tradeDirection'], \n",
    "                                 extended_hours=False, candles_dict=candles_dict, indicator_list=indicator_list)\n",
    "        else:\n",
    "            print('failed')\n",
    "            return\n",
    "chart.on_click(on_charting)"
   ]
  }
 ],
 "metadata": {
  "kernelspec": {
   "display_name": "Python 3",
   "language": "python",
   "name": "python3"
  },
  "language_info": {
   "codemirror_mode": {
    "name": "ipython",
    "version": 3
   },
   "file_extension": ".py",
   "mimetype": "text/x-python",
   "name": "python",
   "nbconvert_exporter": "python",
   "pygments_lexer": "ipython3",
   "version": "3.8.3"
  }
 },
 "nbformat": 4,
 "nbformat_minor": 2
}
